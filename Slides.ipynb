{
 "cells": [
  {
   "cell_type": "markdown",
   "id": "coastal-replica",
   "metadata": {
    "slideshow": {
     "slide_type": "slide"
    }
   },
   "source": [
    "# Lab automation with Python (and 3d printers): Do more for less<a class=\"tocSkip\">\n",
    "---\n",
    "    \n",
    "## I. Interfacing: `.dll` is all you need<a class=\"tocSkip\">\n",
    "## II. Actuators: cheap is (sometimes) enough<a class=\"tocSkip\">\n",
    "## III. Alignment is boring, let the computer work<a class=\"tocSkip\">"
   ]
  },
  {
   "cell_type": "markdown",
   "id": "after-springfield",
   "metadata": {
    "slideshow": {
     "slide_type": "fragment"
    }
   },
   "source": [
    "## Disclaimer<a class=\"tocSkip\">\n",
    "\n",
    "    \n",
    "**The goal is to let you know what solutions exist, not to go into details**\n",
    "    \n",
    "**There are many tutorials to show you how to replace Matlab/Labview with Python for free, I just show here some tricks I found useful.**"
   ]
  },
  {
   "cell_type": "markdown",
   "id": "constant-gender",
   "metadata": {
    "slideshow": {
     "slide_type": "slide"
    }
   },
   "source": [
    "# Using `.dll` with Ctypes\n",
    "\n",
    "If there is no Python/Matalb/Labview specific module for a given hardware, you can still use a `.dll` (Windows) / `.so` (Linux) with Python "
   ]
  },
  {
   "cell_type": "markdown",
   "id": "knowing-casino",
   "metadata": {
    "slideshow": {
     "slide_type": "fragment"
    }
   },
   "source": [
    "## OK, but what is a `.dll`?"
   ]
  },
  {
   "cell_type": "markdown",
   "id": "stainless-bouquet",
   "metadata": {
    "slideshow": {
     "slide_type": "fragment"
    }
   },
   "source": [
    "A `.dll` is a compiled file, but unlike a `.exe`, it does nothing (no main function).\n",
    "\n",
    "It is a librairy of functions that can be called by an external program. \n",
    "\n",
    "In a typical user interface to control a device, a graphical interface call functions from a `.dll` to communicate with the device."
   ]
  },
  {
   "cell_type": "markdown",
   "id": "suspected-blowing",
   "metadata": {
    "slideshow": {
     "slide_type": "slide"
    }
   },
   "source": [
    "## ctypes"
   ]
  },
  {
   "cell_type": "markdown",
   "id": "individual-concrete",
   "metadata": {
    "slideshow": {
     "slide_type": "fragment"
    }
   },
   "source": [
    "`ctypes` module allows:\n",
    "1. Calling function of a library within Python\n",
    "2. Interfacing with C variables\n",
    "\n",
    "**Example: [ALP4lib](https://github.com/wavefrontshaping/ALP4lib) to control [Vialux](https://www.vialux.de/en/) DMD modulators**"
   ]
  },
  {
   "cell_type": "markdown",
   "id": "provincial-devil",
   "metadata": {
    "slideshow": {
     "slide_type": "subslide"
    }
   },
   "source": [
    "### Load a `.dll`"
   ]
  },
  {
   "cell_type": "code",
   "execution_count": 1,
   "id": "derived-navigator",
   "metadata": {
    "slideshow": {
     "slide_type": "fragment"
    }
   },
   "outputs": [],
   "source": [
    "import ctypes as ct"
   ]
  },
  {
   "cell_type": "markdown",
   "id": "brutal-browser",
   "metadata": {
    "slideshow": {
     "slide_type": "fragment"
    }
   },
   "source": [
    "On windows\n",
    "\n",
    "```python\n",
    "libPath = './mylib.dll'\n",
    "lib = ct.CDLL(libPath)\n",
    "```"
   ]
  },
  {
   "cell_type": "markdown",
   "id": "arbitrary-steel",
   "metadata": {
    "slideshow": {
     "slide_type": "subslide"
    }
   },
   "source": [
    "### Use functions"
   ]
  },
  {
   "cell_type": "markdown",
   "id": "british-muscle",
   "metadata": {
    "slideshow": {
     "slide_type": "fragment"
    }
   },
   "source": [
    "Use functions *almost* like normal Python function\n",
    "```python\n",
    "lib.function()\n",
    "```"
   ]
  },
  {
   "cell_type": "markdown",
   "id": "white-provision",
   "metadata": {
    "slideshow": {
     "slide_type": "subslide"
    }
   },
   "source": [
    "### Data types (the *almost* part)"
   ]
  },
  {
   "cell_type": "markdown",
   "id": "corrected-honolulu",
   "metadata": {
    "slideshow": {
     "slide_type": "fragment"
    }
   },
   "source": [
    "Look at the API documentation and/or the header file (`.h` file)\n",
    "\n",
    "**Example:**\n",
    "```C\n",
    "long AlpDevHalt(unsigned long device_id);\n",
    "```\n",
    "\n",
    "This function takes a integer of type `unsigned long` as input, and return a `long` integer"
   ]
  },
  {
   "cell_type": "markdown",
   "id": "african-spoke",
   "metadata": {
    "slideshow": {
     "slide_type": "fragment"
    }
   },
   "source": [
    "```python\n",
    "device_id = 10 # Python variable\n",
    "ret = lib.AlpDevHalt(ct.ulong(device_id))\n",
    "print(ret.value())\n",
    "```"
   ]
  },
  {
   "cell_type": "markdown",
   "id": "classified-chaos",
   "metadata": {
    "slideshow": {
     "slide_type": "fragment"
    }
   },
   "source": [
    "most of the time, it should work too:\n",
    "\n",
    "```python\n",
    "ret = lib.AlpDevHalt(device_id)\n",
    "```"
   ]
  },
  {
   "cell_type": "markdown",
   "id": "widespread-verification",
   "metadata": {
    "slideshow": {
     "slide_type": "subslide"
    }
   },
   "source": [
    "### Difficult part, pointers and arrays\n"
   ]
  },
  {
   "cell_type": "markdown",
   "id": "comprehensive-somerset",
   "metadata": {
    "slideshow": {
     "slide_type": "fragment"
    }
   },
   "source": [
    "We sometimes have to send/receive array of values (e.g. for modulators or cameras).\n",
    "\n",
    "A DMD function to upload a mask (that will later be displaied on the modulator):\n",
    "\n",
    "```C\n",
    "long AlpSeqPut(unsigned long DeviceId, long PicLoad, void *UserArrayPtr);\n",
    "```\n",
    "\n",
    "This function wants a pointer, but to what?"
   ]
  },
  {
   "cell_type": "markdown",
   "id": "intelligent-garlic",
   "metadata": {
    "slideshow": {
     "slide_type": "fragment"
    }
   },
   "source": [
    "**Read the docs**\n",
    "\n",
    "In the docs:\n",
    "\n",
    "![](./images/resolution.png)\n",
    "\n",
    "\n",
    "![](./images/size.png)\n",
    "\n",
    "Type is `char unsigned` (i.e. unsigned int on 8 bits, or uint8)"
   ]
  },
  {
   "cell_type": "markdown",
   "id": "previous-expansion",
   "metadata": {
    "slideshow": {
     "slide_type": "subslide"
    }
   },
   "source": [
    "**Cast Python/numpy arrays to C array**\n",
    "\n",
    "Numpy does that!\n",
    "\n",
    "I want to send one mask (`PicLoad` = 1)\n",
    "```python\n",
    "rows = 768\n",
    "columns = 1024\n",
    "\n",
    "mask = np.randint(2**8, size = (raws,columns))\n",
    "C_mask = mask.astype(np.uint8).ctypes.data_as(ct.c_void_p)\n",
    "```"
   ]
  },
  {
   "cell_type": "markdown",
   "id": "corresponding-separation",
   "metadata": {
    "slideshow": {
     "slide_type": "subslide"
    }
   },
   "source": [
    "**Pass the array to the function**"
   ]
  },
  {
   "cell_type": "markdown",
   "id": "dimensional-chart",
   "metadata": {
    "slideshow": {
     "slide_type": "fragment"
    }
   },
   "source": [
    "```python\n",
    "lib.AlpSeqPut(device_id, ct.long(1), C_mask)\n",
    "```"
   ]
  },
  {
   "cell_type": "markdown",
   "id": "strategic-theater",
   "metadata": {
    "slideshow": {
     "slide_type": "fragment"
    }
   },
   "source": [
    "## That's it!<a class=\"tocSkip\">\n",
    "    \n",
    "### You can now control any instrument in Python as long as you have a `.dll`!<a class=\"tocSkip\">\n",
    "\n",
    "### And because it is that *simple*, 90% of the time, somebody already did it. Check online first!<a class=\"tocSkip\">"
   ]
  },
  {
   "cell_type": "markdown",
   "id": "determined-browse",
   "metadata": {
    "slideshow": {
     "slide_type": "slide"
    }
   },
   "source": [
    "# DIY: Cheap automation components\n",
    "\n",
    "## **Problem:** Not everything requires precise/fast instruments<a class=\"tocSkip\">"
   ]
  },
  {
   "cell_type": "markdown",
   "id": "radical-proceeding",
   "metadata": {
    "slideshow": {
     "slide_type": "subslide"
    }
   },
   "source": [
    "## Example 1: Blocking/unblocking a reference arm"
   ]
  },
  {
   "cell_type": "markdown",
   "id": "lined-algorithm",
   "metadata": {
    "slideshow": {
     "slide_type": "-"
    }
   },
   "source": [
    "### Commercial optical shutter\n",
    "\n",
    "![](./images/shutter_TL_full.png)\n",
    "\n",
    "[//]: # (<img src=\"./images/shutter_TL_specs.gif\" alt=\"drawing\" style=\"width:500px;\"/>)"
   ]
  },
  {
   "cell_type": "markdown",
   "id": "collaborative-america",
   "metadata": {
    "slideshow": {
     "slide_type": "subslide"
    }
   },
   "source": [
    "### DIY"
   ]
  },
  {
   "cell_type": "markdown",
   "id": "daily-vanilla",
   "metadata": {
    "slideshow": {
     "slide_type": "-"
    }
   },
   "source": [
    "![](./images/shutter_DIY.png)\n",
    "\n",
    "* 3d files: [github.com/wavefrontshaping/Servo-Motor-Shutter](https://github.com/wavefrontshaping/Servo-Motor-Shutter)\n",
    "* Software (PC/microcontroller): [github.com/wavefrontshaping/Optical-Hardware-Control](https://github.com/wavefrontshaping/Optical-Hardware-Control)"
   ]
  },
  {
   "cell_type": "markdown",
   "id": "digital-plaza",
   "metadata": {
    "slideshow": {
     "slide_type": "-"
    }
   },
   "source": [
    "### **Microcontroller with Python! (i.e. Adafruit cards, Raspberry Pi Pico, ...)**<a class=\"tocSkip\">"
   ]
  },
  {
   "cell_type": "markdown",
   "id": "inner-weight",
   "metadata": {
    "slideshow": {
     "slide_type": "subslide"
    }
   },
   "source": [
    "![](./images/animation_shutter.gif)"
   ]
  },
  {
   "cell_type": "markdown",
   "id": "dated-garlic",
   "metadata": {
    "slideshow": {
     "slide_type": "subslide"
    }
   },
   "source": [
    "<img src=\"./images/shutter_setup.jpg\" alt=\"drawing\" style=\"width:500px;\"/>"
   ]
  },
  {
   "cell_type": "markdown",
   "id": "combined-representation",
   "metadata": {
    "slideshow": {
     "slide_type": "subslide"
    }
   },
   "source": [
    "## Example 2: Control laser power rotating a polarizer\n",
    "\n",
    "Rotation of optical elements may require precision, but not too much if it is only to control the input power (to desaturate a camera for instance)."
   ]
  },
  {
   "cell_type": "markdown",
   "id": "sustained-tribute",
   "metadata": {
    "slideshow": {
     "slide_type": "fragment"
    }
   },
   "source": [
    "### Commercial optical shutter"
   ]
  },
  {
   "cell_type": "markdown",
   "id": "small-emphasis",
   "metadata": {
    "slideshow": {
     "slide_type": "fragment"
    }
   },
   "source": [
    "\n",
    "![](./images/rotator_TL.png)"
   ]
  },
  {
   "cell_type": "markdown",
   "id": "right-reviewer",
   "metadata": {
    "slideshow": {
     "slide_type": "fragment"
    }
   },
   "source": [
    "<img src=\"./images/rotator_TL_specs.png\" alt=\"drawing\" style=\"width:400px;\"/>\n",
    "\n"
   ]
  },
  {
   "cell_type": "markdown",
   "id": "female-customs",
   "metadata": {
    "slideshow": {
     "slide_type": "subslide"
    }
   },
   "source": [
    "### DIY"
   ]
  },
  {
   "cell_type": "markdown",
   "id": "polyphonic-prompt",
   "metadata": {
    "slideshow": {
     "slide_type": "-"
    }
   },
   "source": [
    "<img src=\"./images/rotator_DIY.png\" alt=\"drawing\" style=\"width:900px;\"/>"
   ]
  },
  {
   "cell_type": "markdown",
   "id": "removed-yield",
   "metadata": {
    "slideshow": {
     "slide_type": "fragment"
    }
   },
   "source": [
    "<img src=\"./images/rotator_DIY_1.png\" alt=\"drawing\" style=\"width:750px;\"/>\n",
    "\n",
    "**<center>Precision: ~1-2 degrees</center>**"
   ]
  },
  {
   "cell_type": "markdown",
   "id": "australian-survivor",
   "metadata": {
    "slideshow": {
     "slide_type": "slide"
    }
   },
   "source": [
    "# Alignment is boring, let the computer work"
   ]
  },
  {
   "cell_type": "markdown",
   "id": "brave-exhaust",
   "metadata": {
    "slideshow": {
     "slide_type": "-"
    }
   },
   "source": [
    "## Precision is sometimes crucial\n",
    "\n",
    "### An example: Measuring the transmission matrix of a multimode fiber<a class=\"tocSkip\">"
   ]
  },
  {
   "cell_type": "markdown",
   "id": "statewide-bathroom",
   "metadata": {
    "slideshow": {
     "slide_type": "subslide"
    }
   },
   "source": [
    "## The hard(ware) way"
   ]
  },
  {
   "cell_type": "markdown",
   "id": "compound-respect",
   "metadata": {
    "slideshow": {
     "slide_type": "-"
    }
   },
   "source": [
    "<img src=\"./images/MMF/1.png\" alt=\"drawing\" style=\"width:1500px;\"/>"
   ]
  },
  {
   "cell_type": "markdown",
   "id": "precious-drawing",
   "metadata": {
    "slideshow": {
     "slide_type": "subslide"
    }
   },
   "source": [
    "### Setups can be complicated and difficult to align"
   ]
  },
  {
   "cell_type": "markdown",
   "id": "substantial-cornwall",
   "metadata": {
    "slideshow": {
     "slide_type": "-"
    }
   },
   "source": [
    "<img src=\"./images/MMF/2.png\" alt=\"drawing\" style=\"width:750px;\"/>"
   ]
  },
  {
   "cell_type": "markdown",
   "id": "juvenile-arkansas",
   "metadata": {
    "slideshow": {
     "slide_type": "subslide"
    }
   },
   "source": [
    "### And it's not always enough..."
   ]
  },
  {
   "cell_type": "markdown",
   "id": "promising-awareness",
   "metadata": {
    "slideshow": {
     "slide_type": "-"
    }
   },
   "source": [
    "<img src=\"./images/MMF/3.png\" alt=\"drawing\" style=\"width:850px;\"/>\n",
    "\n",
    "## + hours of postprocessing<a class=\"tocSkip\">"
   ]
  },
  {
   "cell_type": "markdown",
   "id": "simple-congress",
   "metadata": {
    "slideshow": {
     "slide_type": "slide"
    }
   },
   "source": [
    "## Physics guided numerical compensation of optical defects"
   ]
  },
  {
   "cell_type": "markdown",
   "id": "smaller-louis",
   "metadata": {
    "slideshow": {
     "slide_type": "subslide"
    }
   },
   "source": [
    "### The problem"
   ]
  },
  {
   "cell_type": "markdown",
   "id": "severe-delicious",
   "metadata": {
    "slideshow": {
     "slide_type": "-"
    }
   },
   "source": [
    "<img src=\"./images/MMF/4.png\" alt=\"drawing\" style=\"width:750px;\"/>\n",
    "\n",
    "#### M. Matthès, Y. Bromberg, J. de Rosny and S.M. Popoff, *Learning and avoiding disorder in multimode fibers*, arxiv:2010.14813 (2020), Phys. Rev. X (2021)<a class=\"tocSkip\">"
   ]
  },
  {
   "cell_type": "markdown",
   "id": "verified-intermediate",
   "metadata": {
    "slideshow": {
     "slide_type": "subslide"
    }
   },
   "source": [
    "### The solution\n",
    "\n",
    "#### Instead of spending hours/days to optimize physically the setup (slow)<a class=\"tocSkip\"> \n",
    "    \n",
    "#### Using deep learning framework to mimic Physics and find the correction numerically (fast)<a class=\"tocSkip\">\n"
   ]
  },
  {
   "cell_type": "markdown",
   "id": "dense-looking",
   "metadata": {
    "slideshow": {
     "slide_type": "-"
    }
   },
   "source": [
    "<img src=\"./images/MMF/5.png\" alt=\"drawing\" style=\"width:950px;\"/>\n",
    "\n",
    "### Idea: Network that applies transformations that mimic aberrations/misalignments<a class=\"tocSkip\">\n",
    "    \n",
    "#### Trainable parameters are the ones that characterize these effects<a class=\"tocSkip\">"
   ]
  },
  {
   "cell_type": "markdown",
   "id": "blocked-virtue",
   "metadata": {
    "slideshow": {
     "slide_type": "subslide"
    }
   },
   "source": [
    "<img src=\"./images/MMF/6.png\" alt=\"drawing\" style=\"width:850px;\"/>"
   ]
  },
  {
   "cell_type": "markdown",
   "id": "willing-selection",
   "metadata": {
    "slideshow": {
     "slide_type": "subslide"
    }
   },
   "source": [
    "### From Beast to Beauty"
   ]
  },
  {
   "cell_type": "markdown",
   "id": "general-knight",
   "metadata": {
    "slideshow": {
     "slide_type": "-"
    }
   },
   "source": [
    "<img src=\"./images/MMF/7.png\" alt=\"drawing\" style=\"width:550px;\"/>\n",
    "\n",
    "### - Optimization: ~1 minute on a laptop, few seconds with GPUs<a class=\"tocSkip\">\n",
    "### - Alignment: ~few minutes<a class=\"tocSkip\">"
   ]
  },
  {
   "cell_type": "markdown",
   "id": "potential-peace",
   "metadata": {
    "slideshow": {
     "slide_type": "fragment"
    }
   },
   "source": [
    "## Take home message\n",
    "### If you know enought about the model of a disturbing effect, it is can be much faster and even more efficient to compensate for it numerically. <a class=\"tocSkip\">    \n",
    "### And it is nowadays quite easy with Python...<a class=\"tocSkip\">"
   ]
  },
  {
   "cell_type": "markdown",
   "id": "direct-domain",
   "metadata": {
    "slideshow": {
     "slide_type": "slide"
    }
   },
   "source": [
    "# Other useful stuffs\n",
    "\n",
    "* **Loggers** (standard loggers, graphical ones; e.g. Neptune.ai)\n",
    "* ***Just in time compiling*** (speed up codes with Numba!!!)\n",
    "* **Git**\n",
    "* **Conda** environments and package manager\n",
    "\n",
    "## Remember: The more you share, the more there is a chance what you did will be useful<a class=\"tocSkip\">"
   ]
  },
  {
   "cell_type": "markdown",
   "id": "compliant-marshall",
   "metadata": {
    "slideshow": {
     "slide_type": "fragment"
    }
   },
   "source": [
    "### More information: [www.wavefrontshaping.net](https://wavefrontshaping.net)<a class=\"tocSkip\">\n",
    "### https://github.com/wavefrontshaping/<a class=\"tocSkip\">"
   ]
  }
 ],
 "metadata": {
  "celltoolbar": "Slideshow",
  "kernelspec": {
   "display_name": "Python 3",
   "language": "python",
   "name": "python3"
  },
  "language_info": {
   "codemirror_mode": {
    "name": "ipython",
    "version": 3
   },
   "file_extension": ".py",
   "mimetype": "text/x-python",
   "name": "python",
   "nbconvert_exporter": "python",
   "pygments_lexer": "ipython3",
   "version": "3.8.5"
  },
  "toc": {
   "base_numbering": 1,
   "nav_menu": {},
   "number_sections": true,
   "sideBar": true,
   "skip_h1_title": false,
   "title_cell": "Table of Contents",
   "title_sidebar": "Contents",
   "toc_cell": false,
   "toc_position": {},
   "toc_section_display": true,
   "toc_window_display": false
  }
 },
 "nbformat": 4,
 "nbformat_minor": 5
}
